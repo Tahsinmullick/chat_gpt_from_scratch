{
  "nbformat": 4,
  "nbformat_minor": 0,
  "metadata": {
    "colab": {
      "provenance": []
    },
    "kernelspec": {
      "name": "python3",
      "display_name": "Python 3"
    },
    "language_info": {
      "name": "python"
    }
  },
  "cells": [
    {
      "cell_type": "code",
      "execution_count": 1,
      "metadata": {
        "colab": {
          "base_uri": "https://localhost:8080/"
        },
        "id": "MnNE3ACM2bkp",
        "outputId": "406b0e31-3eb6-40fe-e380-2f6b79a8b1d2"
      },
      "outputs": [
        {
          "output_type": "stream",
          "name": "stdout",
          "text": [
            "--2024-10-05 15:15:49--  https://raw.githubusercontent.com/karpathy/char-rnn/master/data/tinyshakespeare/input.txt\n",
            "Resolving raw.githubusercontent.com (raw.githubusercontent.com)... 185.199.108.133, 185.199.109.133, 185.199.110.133, ...\n",
            "Connecting to raw.githubusercontent.com (raw.githubusercontent.com)|185.199.108.133|:443... connected.\n",
            "HTTP request sent, awaiting response... 200 OK\n",
            "Length: 1115394 (1.1M) [text/plain]\n",
            "Saving to: ‘input.txt’\n",
            "\n",
            "input.txt           100%[===================>]   1.06M  5.15MB/s    in 0.2s    \n",
            "\n",
            "2024-10-05 15:15:50 (5.15 MB/s) - ‘input.txt’ saved [1115394/1115394]\n",
            "\n"
          ]
        }
      ],
      "source": [
        "#training data: tiny shakespeare\n",
        "!wget https://raw.githubusercontent.com/karpathy/char-rnn/master/data/tinyshakespeare/input.txt\n",
        "\n",
        "#"
      ]
    },
    {
      "cell_type": "markdown",
      "source": [
        "## Reading the input text"
      ],
      "metadata": {
        "id": "TWPtXx064U0G"
      }
    },
    {
      "cell_type": "code",
      "source": [
        "with open('input.txt', 'r', encoding='utf-8') as f:\n",
        "    text = f.read()"
      ],
      "metadata": {
        "id": "er-LQTAa4Tn-"
      },
      "execution_count": 2,
      "outputs": []
    },
    {
      "cell_type": "code",
      "source": [
        "print(f\"length of dataset in characters: {len(text)} \")"
      ],
      "metadata": {
        "colab": {
          "base_uri": "https://localhost:8080/"
        },
        "id": "x-OICotm4hJH",
        "outputId": "d23a31c4-758c-42a8-f9c0-9791102f47a2"
      },
      "execution_count": 3,
      "outputs": [
        {
          "output_type": "stream",
          "name": "stdout",
          "text": [
            "length of dataset in characters: 1115394 \n"
          ]
        }
      ]
    },
    {
      "cell_type": "code",
      "source": [
        "# Looking at the first 1500 characters\n",
        "print(text[:1500])"
      ],
      "metadata": {
        "colab": {
          "base_uri": "https://localhost:8080/"
        },
        "id": "byv00RcA4xam",
        "outputId": "1ed0b247-3213-4c66-fcab-b6e5498c15cb"
      },
      "execution_count": 4,
      "outputs": [
        {
          "output_type": "stream",
          "name": "stdout",
          "text": [
            "First Citizen:\n",
            "Before we proceed any further, hear me speak.\n",
            "\n",
            "All:\n",
            "Speak, speak.\n",
            "\n",
            "First Citizen:\n",
            "You are all resolved rather to die than to famish?\n",
            "\n",
            "All:\n",
            "Resolved. resolved.\n",
            "\n",
            "First Citizen:\n",
            "First, you know Caius Marcius is chief enemy to the people.\n",
            "\n",
            "All:\n",
            "We know't, we know't.\n",
            "\n",
            "First Citizen:\n",
            "Let us kill him, and we'll have corn at our own price.\n",
            "Is't a verdict?\n",
            "\n",
            "All:\n",
            "No more talking on't; let it be done: away, away!\n",
            "\n",
            "Second Citizen:\n",
            "One word, good citizens.\n",
            "\n",
            "First Citizen:\n",
            "We are accounted poor citizens, the patricians good.\n",
            "What authority surfeits on would relieve us: if they\n",
            "would yield us but the superfluity, while it were\n",
            "wholesome, we might guess they relieved us humanely;\n",
            "but they think we are too dear: the leanness that\n",
            "afflicts us, the object of our misery, is as an\n",
            "inventory to particularise their abundance; our\n",
            "sufferance is a gain to them Let us revenge this with\n",
            "our pikes, ere we become rakes: for the gods know I\n",
            "speak this in hunger for bread, not in thirst for revenge.\n",
            "\n",
            "Second Citizen:\n",
            "Would you proceed especially against Caius Marcius?\n",
            "\n",
            "All:\n",
            "Against him first: he's a very dog to the commonalty.\n",
            "\n",
            "Second Citizen:\n",
            "Consider you what services he has done for his country?\n",
            "\n",
            "First Citizen:\n",
            "Very well; and could be content to give him good\n",
            "report fort, but that he pays himself with being proud.\n",
            "\n",
            "Second Citizen:\n",
            "Nay, but speak not maliciously.\n",
            "\n",
            "First Citizen:\n",
            "I say unto you, what he hath done famously, he did\n",
            "it to that end: though soft-conscienced men can be\n",
            "content to \n"
          ]
        }
      ]
    },
    {
      "cell_type": "markdown",
      "source": [
        "## Extracting all unique characters that occur in the text"
      ],
      "metadata": {
        "id": "CnwMed8U5NJf"
      }
    },
    {
      "cell_type": "code",
      "source": [
        "chars = sorted(list(set(text)))\n",
        "vocab_size = len(chars)\n",
        "print(''.join(chars))\n",
        "print(vocab_size)"
      ],
      "metadata": {
        "colab": {
          "base_uri": "https://localhost:8080/"
        },
        "id": "F_l-92IA5CU-",
        "outputId": "a08d0483-4ca0-455f-f9da-2327d8690d86"
      },
      "execution_count": 5,
      "outputs": [
        {
          "output_type": "stream",
          "name": "stdout",
          "text": [
            "\n",
            " !$&',-.3:;?ABCDEFGHIJKLMNOPQRSTUVWXYZabcdefghijklmnopqrstuvwxyz\n",
            "65\n"
          ]
        }
      ]
    },
    {
      "cell_type": "markdown",
      "source": [
        "## Implementing the tokenizer"
      ],
      "metadata": {
        "id": "h41apSvPANou"
      }
    },
    {
      "cell_type": "code",
      "source": [
        "# Need a strategy to tokenize the text\n",
        "# Tokenize: implies converting the raw text\n",
        "# as a string to some sequence of integers\n",
        "# according to some vocabulary of some possible elements\n",
        "\n",
        "# since in this case we are building a character level language model\n",
        "# so we are simply going to be translating individual characters into integers\n"
      ],
      "metadata": {
        "id": "SwjhQ7be55PS"
      },
      "execution_count": 6,
      "outputs": []
    },
    {
      "cell_type": "code",
      "source": [
        "# creating a mapping from characters to integers (AKA Tokenizing)\n",
        "# we are building both the encoder and the decoder\n",
        "stoi = {ch:i for i,ch in enumerate(chars)}\n",
        "itos = {i:ch for i,ch in enumerate(chars)}\n",
        "\n",
        "# encoder: takes a string, outputs a list of integers\n",
        "encode = lambda s: [stoi[c] for c in s]\n",
        "\n",
        "# decoder: takes a list of integers, outputs a string\n",
        "decode = lambda l: ''.join([itos[i] for i in l])\n",
        "\n",
        "print(encode(\"hello there\"))\n",
        "print(decode(encode(\"hello there\")))\n",
        "\n",
        "# The above is only one of many possible encoding/tokenizers\n",
        "# e.g. SentencePiece (by google sub word tokenizers - adapted in practice)\n",
        "# e.g. tiktoken (used by open AI)\n",
        "# the one we presented is a character level tokenizer"
      ],
      "metadata": {
        "colab": {
          "base_uri": "https://localhost:8080/"
        },
        "id": "VNRPOcRZ6vyA",
        "outputId": "44236971-8d63-45ff-ee0a-fbc283686f52"
      },
      "execution_count": 7,
      "outputs": [
        {
          "output_type": "stream",
          "name": "stdout",
          "text": [
            "[46, 43, 50, 50, 53, 1, 58, 46, 43, 56, 43]\n",
            "hello there\n"
          ]
        }
      ]
    },
    {
      "cell_type": "markdown",
      "source": [
        "### Encoding the entire text dataset and storing it in a torch.Tensor"
      ],
      "metadata": {
        "id": "M0P6AtIaATL4"
      }
    },
    {
      "cell_type": "code",
      "source": [
        "import torch\n",
        "\n",
        "data = torch.tensor(encode(text), dtype=torch.long)\n",
        "print(data.shape, data.dtype)\n",
        "\n",
        "# Printing the 1500 characters we saw earlier\n",
        "# Will look as follows to the GPT\n",
        "print(data[:1500])"
      ],
      "metadata": {
        "colab": {
          "base_uri": "https://localhost:8080/"
        },
        "id": "OmwusfWH70XK",
        "outputId": "9c279027-733d-4e8f-c56b-4ac2db458509"
      },
      "execution_count": 8,
      "outputs": [
        {
          "output_type": "stream",
          "name": "stdout",
          "text": [
            "torch.Size([1115394]) torch.int64\n",
            "tensor([18, 47, 56,  ..., 58, 53,  1])\n"
          ]
        }
      ]
    },
    {
      "cell_type": "markdown",
      "source": [
        "## Train Validation Split of the dataset"
      ],
      "metadata": {
        "id": "KaweRZtlPs4_"
      }
    },
    {
      "cell_type": "code",
      "source": [
        "# Hold 90% data for training\n",
        "# 10% will be validation set\n",
        "n = int(0.9*len(data))\n",
        "\n",
        "train_data = data[:n]\n",
        "val_data = data[n:]"
      ],
      "metadata": {
        "id": "xNJuRfrTAx6n"
      },
      "execution_count": 9,
      "outputs": []
    },
    {
      "cell_type": "code",
      "source": [
        "# When we train the transformers we train on chunks of dataset\n",
        "# These chunks are randomly selected\n",
        "# These chunks are of a maximum length\n",
        "# The max length is typically called block_size/context_length etc.\n",
        "# Here we set the block_size and observe that block of the train_data\n",
        "\n",
        "block_size = 8\n",
        "train_data[:block_size+1]"
      ],
      "metadata": {
        "colab": {
          "base_uri": "https://localhost:8080/"
        },
        "id": "LZN2DUm_QRxs",
        "outputId": "a3e65208-e214-408b-a150-29531d9d634d"
      },
      "execution_count": 10,
      "outputs": [
        {
          "output_type": "execute_result",
          "data": {
            "text/plain": [
              "tensor([18, 47, 56, 57, 58,  1, 15, 47, 58])"
            ]
          },
          "metadata": {},
          "execution_count": 10
        }
      ]
    },
    {
      "cell_type": "code",
      "source": [
        "# The reason for adding the 1 is that\n",
        "# by doing so we actually are saving the context\n",
        "# after sequence of 18 likely it is 47 (1)\n",
        "# after sequence of 18, 47 likely it is 56 (2)\n",
        "# after sequence of 18, 47, 56, likely it is 57 (3)\n",
        "# ...\n",
        "# after sequence of 18, 47, 56, 57, 58, 1, 15, 47 likely it is 58 (8)\n",
        "\n",
        "# code to show that\n",
        "x = train_data[:block_size]   # input to transformer\n",
        "y = train_data[1:block_size+1] # will be next character (targets) so offset by 1\n",
        "\n",
        "for t in range(block_size):\n",
        "  context = x[:t+1]\n",
        "  target = y[t]\n",
        "  print(f\"when input is {context} the target: {target}\")"
      ],
      "metadata": {
        "colab": {
          "base_uri": "https://localhost:8080/"
        },
        "id": "4RwI6SvYQ_2K",
        "outputId": "d9a87e67-8a9c-4d06-a930-37ffb496329d"
      },
      "execution_count": 11,
      "outputs": [
        {
          "output_type": "stream",
          "name": "stdout",
          "text": [
            "when input is tensor([18]) the target: 47\n",
            "when input is tensor([18, 47]) the target: 56\n",
            "when input is tensor([18, 47, 56]) the target: 57\n",
            "when input is tensor([18, 47, 56, 57]) the target: 58\n",
            "when input is tensor([18, 47, 56, 57, 58]) the target: 1\n",
            "when input is tensor([18, 47, 56, 57, 58,  1]) the target: 15\n",
            "when input is tensor([18, 47, 56, 57, 58,  1, 15]) the target: 47\n",
            "when input is tensor([18, 47, 56, 57, 58,  1, 15, 47]) the target: 58\n"
          ]
        }
      ]
    },
    {
      "cell_type": "code",
      "source": [
        "# We train on all the eight examples above\n",
        "# with context between 1 all the way up to context of block_size\n",
        "# We train on it not just for computational reasons\n",
        "# It is also done to make the transformer network used to seeing contexts\n",
        "# all the way from as little as one to an entire block_size\n",
        "# so we can start the sampling generation with as little as one character"
      ],
      "metadata": {
        "id": "1hFw6-L4Sw4C"
      },
      "execution_count": 12,
      "outputs": []
    },
    {
      "cell_type": "code",
      "source": [
        "# So far we have taken care of the \"time\" dimension\n",
        "# Now we look towards \"batch\" dimension\n",
        "# As we are sampling these chunks of text\n",
        "# and feed them into a Transformer we're\n",
        "# going to have many batches of multiple\n",
        "# chunks of text all stacked up in a single tensor\n",
        "# done mainly for efficiency and work the gpu's\n",
        "\n",
        "# As such we will generalize it and add a batch dimension to the above code\n",
        "torch.manual_seed(1337)\n",
        "batch_size = 4 # Number of independent sequences we want to process in parallel\n",
        "block_size = 8 # max context length for prediction\n",
        "\n",
        "\n",
        "# function to create batch\n",
        "def get_batch(split):\n",
        "  # generate a small batch of data of input x and targets y\n",
        "  data = train_data if split == 'train' else val_data\n",
        "\n",
        "  # random offsets into the training set\n",
        "  # ix is going to be four numbers that are randomly generate\n",
        "  # between 0 and (len(data) - blocksize)\n",
        "  ix = torch.randint(len(data) - block_size, (batch_size,))\n",
        "  # x are the first block size characters starting at i\n",
        "  x = torch.stack([data[i:i+block_size] for i in ix])\n",
        "  # y are the offset of x by 1 so we just add plus 1 to it\n",
        "  # they are stacked in a 4 x 8 tensor\n",
        "  y = torch.stack([data[i+1:i+block_size+1] for i in ix])\n",
        "  return x, y\n",
        "\n",
        "\n",
        "xb, yb = get_batch('train')\n",
        "print('inputs:')\n",
        "print(xb.shape)\n",
        "print(xb)\n",
        "print('targets:')\n",
        "print(yb.shape)\n",
        "print(yb)\n",
        "\n",
        "print('------------')\n",
        "\n",
        "for b in range(batch_size): # batch dimension\n",
        "  for t in range(block_size): # time dimension\n",
        "    context = xb[b, :t+1]\n",
        "    target = yb[b,t]\n",
        "    print(f\"when input is {context.tolist()} the target: {target}\")\n"
      ],
      "metadata": {
        "colab": {
          "base_uri": "https://localhost:8080/"
        },
        "id": "iMWJF85gTshj",
        "outputId": "482ef820-7676-4223-d422-226346ffb076"
      },
      "execution_count": 13,
      "outputs": [
        {
          "output_type": "stream",
          "name": "stdout",
          "text": [
            "inputs:\n",
            "torch.Size([4, 8])\n",
            "tensor([[24, 43, 58,  5, 57,  1, 46, 43],\n",
            "        [44, 53, 56,  1, 58, 46, 39, 58],\n",
            "        [52, 58,  1, 58, 46, 39, 58,  1],\n",
            "        [25, 17, 27, 10,  0, 21,  1, 54]])\n",
            "targets:\n",
            "torch.Size([4, 8])\n",
            "tensor([[43, 58,  5, 57,  1, 46, 43, 39],\n",
            "        [53, 56,  1, 58, 46, 39, 58,  1],\n",
            "        [58,  1, 58, 46, 39, 58,  1, 46],\n",
            "        [17, 27, 10,  0, 21,  1, 54, 39]])\n",
            "------------\n",
            "when input is [24] the target: 43\n",
            "when input is [24, 43] the target: 58\n",
            "when input is [24, 43, 58] the target: 5\n",
            "when input is [24, 43, 58, 5] the target: 57\n",
            "when input is [24, 43, 58, 5, 57] the target: 1\n",
            "when input is [24, 43, 58, 5, 57, 1] the target: 46\n",
            "when input is [24, 43, 58, 5, 57, 1, 46] the target: 43\n",
            "when input is [24, 43, 58, 5, 57, 1, 46, 43] the target: 39\n",
            "when input is [44] the target: 53\n",
            "when input is [44, 53] the target: 56\n",
            "when input is [44, 53, 56] the target: 1\n",
            "when input is [44, 53, 56, 1] the target: 58\n",
            "when input is [44, 53, 56, 1, 58] the target: 46\n",
            "when input is [44, 53, 56, 1, 58, 46] the target: 39\n",
            "when input is [44, 53, 56, 1, 58, 46, 39] the target: 58\n",
            "when input is [44, 53, 56, 1, 58, 46, 39, 58] the target: 1\n",
            "when input is [52] the target: 58\n",
            "when input is [52, 58] the target: 1\n",
            "when input is [52, 58, 1] the target: 58\n",
            "when input is [52, 58, 1, 58] the target: 46\n",
            "when input is [52, 58, 1, 58, 46] the target: 39\n",
            "when input is [52, 58, 1, 58, 46, 39] the target: 58\n",
            "when input is [52, 58, 1, 58, 46, 39, 58] the target: 1\n",
            "when input is [52, 58, 1, 58, 46, 39, 58, 1] the target: 46\n",
            "when input is [25] the target: 17\n",
            "when input is [25, 17] the target: 27\n",
            "when input is [25, 17, 27] the target: 10\n",
            "when input is [25, 17, 27, 10] the target: 0\n",
            "when input is [25, 17, 27, 10, 0] the target: 21\n",
            "when input is [25, 17, 27, 10, 0, 21] the target: 1\n",
            "when input is [25, 17, 27, 10, 0, 21, 1] the target: 54\n",
            "when input is [25, 17, 27, 10, 0, 21, 1, 54] the target: 39\n"
          ]
        }
      ]
    },
    {
      "cell_type": "code",
      "source": [
        "# the input to the transformer\n",
        "print(xb)"
      ],
      "metadata": {
        "id": "BfWoukT5VeX9",
        "colab": {
          "base_uri": "https://localhost:8080/"
        },
        "outputId": "29c4e662-f285-46fb-f05c-c6f2b70b4ad8"
      },
      "execution_count": 14,
      "outputs": [
        {
          "output_type": "stream",
          "name": "stdout",
          "text": [
            "tensor([[24, 43, 58,  5, 57,  1, 46, 43],\n",
            "        [44, 53, 56,  1, 58, 46, 39, 58],\n",
            "        [52, 58,  1, 58, 46, 39, 58,  1],\n",
            "        [25, 17, 27, 10,  0, 21,  1, 54]])\n"
          ]
        }
      ]
    },
    {
      "cell_type": "markdown",
      "source": [
        "We start off with one of the simplest cases of language modeling the bigram language model.\n",
        "(Ref: [Bigram description](https://www.youtube.com/watch?v=PaCmpygFfXo&list=PLAqhIrjkxbuWI23v9cThsA9GvCAUhRvKZ&index=2))\n",
        "\n"
      ],
      "metadata": {
        "id": "SBPMmCY9T5MA"
      }
    },
    {
      "cell_type": "code",
      "source": [
        "import torch\n",
        "import torch.nn as nn\n",
        "from torch.nn import functional as F\n",
        "torch.manual_seed(1337)\n",
        "\n",
        "class BigramLanguageModel(nn.Module):\n",
        "  def __init__(self, vocab_size):\n",
        "    super().__init__()\n",
        "    # each token directly reads off the logits for the next token\n",
        "    # from a lookup table\n",
        "    self.token_embedding_table = nn.Embedding(vocab_size, vocab_size)\n",
        "\n",
        "  def forward(self, idx, targets):\n",
        "    # index(idx) and targets are both (B,T) tensor of integers\n",
        "    logits = self.token_embedding_table(idx) # (Batch(B), Time(T), Channel(C)) tensor\n",
        "    # the logits are basically the scores for next character in the sequence\n",
        "    # we are basically predicting what comes next based on just invidual identity\n",
        "    # of a single token and we can do that because they initially are not\n",
        "    # seeing any context around them they are just seeing themselves.\n",
        "    # now that we made predictions about what comes next we would like to\n",
        "    # evaluate the loss function using negative log likelihood loss\n",
        "    # we measure the qualtity of logits withrespect to the targets using expression below\n",
        "    # loss = F.cross_entropy(logits, targets)\n",
        "    # However this expression will not run\n",
        "    # the reason is pytorch wants the channels to be in the\n",
        "    # second dimension i.e. it wants a (B, C, T) instead of (B, T, C)\n",
        "    # so we will reshape the logits\n",
        "    # we will give names to the dimensions\n",
        "    B, T, C = logits.shape\n",
        "    # convert logits into just a 2-D array\n",
        "    logits = logits.view(B*T, C)\n",
        "    # the same has to be done to targets which are (B, T)\n",
        "    # and we want it to be just (B*T)\n",
        "    targets = targets.view(B*T)\n",
        "    loss = F.cross_entropy(logits, targets)\n",
        "    return logits, loss\n",
        "\n",
        "  # Now that we are able to evaluate the quality of the model\n",
        "  # we would also like to be able to generate from the model\n",
        "\n",
        "\n",
        "\n",
        "\n",
        "# running this gives us the logits or prediction scores for\n",
        "# everyone of the 4 x 8 positions\n",
        "m = BigramLanguageModel(vocab_size)\n",
        "logits, loss = m(xb, yb)\n",
        "print(logits.shape)\n",
        "print(loss)"
      ],
      "metadata": {
        "colab": {
          "base_uri": "https://localhost:8080/"
        },
        "id": "CoBbC86yT1J1",
        "outputId": "5a7bda5c-f06a-416c-a5c4-70329df4a248"
      },
      "execution_count": 16,
      "outputs": [
        {
          "output_type": "stream",
          "name": "stdout",
          "text": [
            "torch.Size([32, 65])\n",
            "tensor(4.8786, grad_fn=<NllLossBackward0>)\n"
          ]
        }
      ]
    },
    {
      "cell_type": "code",
      "source": [
        "# Looking at the loss we see that we are getting\n",
        "# value of 4.8786\n",
        "# based on negatie loglikelihood we should\n",
        "# get -ln(1/65) = 4.174\n",
        "# this tells us that the model has little bit entropy\n",
        "# and is guessing wrong\n",
        "\n",
        "\n"
      ],
      "metadata": {
        "id": "_OKmhAu7XJXe"
      },
      "execution_count": null,
      "outputs": []
    }
  ]
}